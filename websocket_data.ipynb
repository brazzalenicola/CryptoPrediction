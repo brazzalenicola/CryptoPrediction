{
 "cells": [
  {
   "cell_type": "code",
   "execution_count": null,
   "metadata": {},
   "outputs": [],
   "source": [
    "import json, time\n",
    "from websocket import create_connection"
   ]
  },
  {
   "cell_type": "code",
   "execution_count": 15,
   "metadata": {},
   "outputs": [
    {
     "name": "stderr",
     "output_type": "stream",
     "text": [
      "--- request header ---\n",
      "GET / HTTP/1.1\n",
      "Upgrade: websocket\n",
      "Connection: Upgrade\n",
      "Host: ws.kraken.com\n",
      "Origin: http://ws.kraken.com\n",
      "Sec-WebSocket-Key: rgvLBmonbZhoR9ILJbhetg==\n",
      "Sec-WebSocket-Version: 13\n",
      "Cookie: __cfruid=611b4a5b00f6557829ff297380d25cd94708c6da-1674495658; __cf_bm=wr00XyKmoIcjFRojvcd1bkd6KfD75zmlYhPhAkMtqLw-1674497363-0-AbWLVlbQcOEtbRZ+Hw7XvPbx4306k8U4U61qcDrxXSxrgIyn9/mAv8mjM0VoPGZY7W+aEWuEUcW/OYVyLJ/MxrE=\n",
      "\n",
      "\n",
      "-----------------------\n",
      "--- response header ---\n",
      "HTTP/1.1 101 Switching Protocols\n",
      "Date: Mon, 23 Jan 2023 18:14:34 GMT\n",
      "Connection: upgrade\n",
      "Set-Cookie: AWSALB=nY+27ct5h2eo4VxJEFXYTGyfocU7WXSVgHe5FfcZ9K2nFhjnLtUsHfofAQyPJHKdxkgf/ZotJ704VookDT2zRniO3r/qgbm28WKFVNyLsxlvXulYE5Hvrtvc2vrG; Expires=Mon, 30 Jan 2023 18:14:34 GMT; Path=/\n",
      "Set-Cookie: AWSALBCORS=nY+27ct5h2eo4VxJEFXYTGyfocU7WXSVgHe5FfcZ9K2nFhjnLtUsHfofAQyPJHKdxkgf/ZotJ704VookDT2zRniO3r/qgbm28WKFVNyLsxlvXulYE5Hvrtvc2vrG; Expires=Mon, 30 Jan 2023 18:14:34 GMT; Path=/; SameSite=None; Secure\n",
      "Upgrade: websocket\n",
      "Sec-WebSocket-Accept: 714l2P37PEtB6u0OR7xJMqhHLks=\n",
      "CF-Cache-Status: DYNAMIC\n",
      "Strict-Transport-Security: max-age=31536000; includeSubDomains; preload\n",
      "X-Content-Type-Options: nosniff\n",
      "Server: cloudflare\n",
      "CF-RAY: 78e2827f7af3839a-MXP\n",
      "-----------------------\n",
      "send: b'\\x81\\xda\\x14\\xec\\xde\\xb8o\\xce\\xbb\\xceq\\x82\\xaa\\x9a.\\xcc\\xfc\\xcba\\x8e\\xad\\xdbf\\x85\\xbc\\xdd6\\xc0\\xfe\\x9ad\\x8d\\xb7\\xca6\\xd6\\xfe\\xe36\\xb4\\x9c\\xec;\\xb9\\x8d\\xfc6\\xc0\\xfe\\x9aQ\\xb8\\x96\\x97A\\xbf\\x9a\\x9aI\\xc0\\xfe\\x9ag\\x99\\xbc\\xcbw\\x9e\\xb7\\xc8`\\x85\\xb1\\xd66\\xd6\\xfe\\xc36\\x82\\xbf\\xd5q\\xce\\xe4\\x986\\x98\\xb7\\xdb\\x7f\\x89\\xac\\x9ai\\x91'\n"
     ]
    },
    {
     "name": "stdout",
     "output_type": "stream",
     "text": [
      "{'connectionID': 17203464632379890586, 'event': 'systemStatus', 'status': 'online', 'version': '1.9.0'}\n",
      "{'channelID': 340, 'channelName': 'ticker', 'event': 'subscriptionStatus', 'pair': 'XBT/USD', 'status': 'subscribed', 'subscription': {'name': 'ticker'}}\n",
      "{'channelID': 564, 'channelName': 'ticker', 'event': 'subscriptionStatus', 'pair': 'ETH/USD', 'status': 'subscribed', 'subscription': {'name': 'ticker'}}\n",
      "[340, {'a': ['23108.30000', 0, '0.10000000'], 'b': ['23104.60000', 0, '0.20000000'], 'c': ['23101.20000', '0.06740258'], 'v': ['2165.35103869', '3394.64345619'], 'p': ['22812.33863', '22730.44340'], 't': [18426, 27012], 'l': ['22520.10000', '22301.20000'], 'h': ['23127.10000', '23127.10000'], 'o': ['22717.10000', '22920.30000']}, 'ticker', 'XBT/USD']\n",
      "[564, {'a': ['1630.87000', 3, '3.73922041'], 'b': ['1630.86000', 18, '18.43026125'], 'c': ['1631.07000', '0.14500000'], 'v': ['21300.61932641', '27671.02281705'], 'p': ['1624.96460', '1626.18482'], 't': [13199, 18047], 'l': ['1585.00000', '1585.00000'], 'h': ['1648.54000', '1656.69000'], 'o': ['1627.66000', '1656.40000']}, 'ticker', 'ETH/USD']\n",
      "[340, {'a': ['23131.20000', 3, '3.35383142'], 'b': ['23113.60000', 5, '5.48985107'], 'c': ['23131.20000', '1.89008465'], 'v': ['2170.35103869', '3399.64345619'], 'p': ['22813.06589', '22731.02813'], 't': [18452, 27038], 'l': ['22520.10000', '22301.20000'], 'h': ['23131.20000', '23131.20000'], 'o': ['22717.10000', '22920.30000']}, 'ticker', 'XBT/USD']\n",
      "[340, {'a': ['23121.50000', 0, '0.10967181'], 'b': ['23121.40000', 0, '0.01000000'], 'c': ['23121.50000', '0.00426390'], 'v': ['2170.35530259', '3399.64772009'], 'p': ['22813.06649', '22731.02862'], 't': [18453, 27039], 'l': ['22520.10000', '22301.20000'], 'h': ['23131.20000', '23131.20000'], 'o': ['22717.10000', '22920.30000']}, 'ticker', 'XBT/USD']\n",
      "[340, {'a': ['23121.50000', 0, '0.10967181'], 'b': ['23121.40000', 0, '0.00758337'], 'c': ['23121.40000', '0.00241663'], 'v': ['2170.35771922', '3399.65013672'], 'p': ['22813.06684', '22731.02890'], 't': [18454, 27040], 'l': ['22520.10000', '22301.20000'], 'h': ['23131.20000', '23131.20000'], 'o': ['22717.10000', '22920.30000']}, 'ticker', 'XBT/USD']\n"
     ]
    },
    {
     "ename": "KeyboardInterrupt",
     "evalue": "",
     "output_type": "error",
     "traceback": [
      "\u001b[0;31m---------------------------------------------------------------------------\u001b[0m",
      "\u001b[0;31mKeyboardInterrupt\u001b[0m                         Traceback (most recent call last)",
      "\u001b[0;32m/var/folders/gc/24fg40fj1jzdk4xk9ws4vyfc0000gn/T/ipykernel_8070/2357040965.py\u001b[0m in \u001b[0;36m<module>\u001b[0;34m\u001b[0m\n\u001b[1;32m     74\u001b[0m     }))\n\u001b[1;32m     75\u001b[0m     \u001b[0;32mwhile\u001b[0m \u001b[0;32mTrue\u001b[0m\u001b[0;34m:\u001b[0m\u001b[0;34m\u001b[0m\u001b[0;34m\u001b[0m\u001b[0m\n\u001b[0;32m---> 76\u001b[0;31m         \u001b[0mmessage\u001b[0m \u001b[0;34m=\u001b[0m \u001b[0mws\u001b[0m\u001b[0;34m.\u001b[0m\u001b[0mrecv\u001b[0m\u001b[0;34m(\u001b[0m\u001b[0;34m)\u001b[0m\u001b[0;34m\u001b[0m\u001b[0;34m\u001b[0m\u001b[0m\n\u001b[0m\u001b[1;32m     77\u001b[0m         \u001b[0mon_message\u001b[0m\u001b[0;34m(\u001b[0m\u001b[0mmessage\u001b[0m\u001b[0;34m)\u001b[0m\u001b[0;34m\u001b[0m\u001b[0;34m\u001b[0m\u001b[0m\n\u001b[1;32m     78\u001b[0m     \u001b[0mws\u001b[0m\u001b[0;34m.\u001b[0m\u001b[0mclose\u001b[0m\u001b[0;34m(\u001b[0m\u001b[0;34m)\u001b[0m\u001b[0;34m\u001b[0m\u001b[0;34m\u001b[0m\u001b[0m\n",
      "\u001b[0;32m~/opt/anaconda3/lib/python3.9/site-packages/websocket/_core.py\u001b[0m in \u001b[0;36mrecv\u001b[0;34m(self)\u001b[0m\n\u001b[1;32m    291\u001b[0m         \u001b[0;32mreturn\u001b[0m \u001b[0mvalue\u001b[0m\u001b[0;34m:\u001b[0m \u001b[0mstring\u001b[0m\u001b[0;34m(\u001b[0m\u001b[0mbyte\u001b[0m \u001b[0marray\u001b[0m\u001b[0;34m)\u001b[0m \u001b[0mvalue\u001b[0m\u001b[0;34m.\u001b[0m\u001b[0;34m\u001b[0m\u001b[0;34m\u001b[0m\u001b[0m\n\u001b[1;32m    292\u001b[0m         \"\"\"\n\u001b[0;32m--> 293\u001b[0;31m         \u001b[0mopcode\u001b[0m\u001b[0;34m,\u001b[0m \u001b[0mdata\u001b[0m \u001b[0;34m=\u001b[0m \u001b[0mself\u001b[0m\u001b[0;34m.\u001b[0m\u001b[0mrecv_data\u001b[0m\u001b[0;34m(\u001b[0m\u001b[0;34m)\u001b[0m\u001b[0;34m\u001b[0m\u001b[0;34m\u001b[0m\u001b[0m\n\u001b[0m\u001b[1;32m    294\u001b[0m         \u001b[0;32mif\u001b[0m \u001b[0msix\u001b[0m\u001b[0;34m.\u001b[0m\u001b[0mPY3\u001b[0m \u001b[0;32mand\u001b[0m \u001b[0mopcode\u001b[0m \u001b[0;34m==\u001b[0m \u001b[0mABNF\u001b[0m\u001b[0;34m.\u001b[0m\u001b[0mOPCODE_TEXT\u001b[0m\u001b[0;34m:\u001b[0m\u001b[0;34m\u001b[0m\u001b[0;34m\u001b[0m\u001b[0m\n\u001b[1;32m    295\u001b[0m             \u001b[0;32mreturn\u001b[0m \u001b[0mdata\u001b[0m\u001b[0;34m.\u001b[0m\u001b[0mdecode\u001b[0m\u001b[0;34m(\u001b[0m\u001b[0;34m\"utf-8\"\u001b[0m\u001b[0;34m)\u001b[0m\u001b[0;34m\u001b[0m\u001b[0;34m\u001b[0m\u001b[0m\n",
      "\u001b[0;32m~/opt/anaconda3/lib/python3.9/site-packages/websocket/_core.py\u001b[0m in \u001b[0;36mrecv_data\u001b[0;34m(self, control_frame)\u001b[0m\n\u001b[1;32m    308\u001b[0m         \u001b[0;32mreturn\u001b[0m  \u001b[0mvalue\u001b[0m\u001b[0;34m:\u001b[0m \u001b[0mtuple\u001b[0m \u001b[0mof\u001b[0m \u001b[0moperation\u001b[0m \u001b[0mcode\u001b[0m \u001b[0;32mand\u001b[0m \u001b[0mstring\u001b[0m\u001b[0;34m(\u001b[0m\u001b[0mbyte\u001b[0m \u001b[0marray\u001b[0m\u001b[0;34m)\u001b[0m \u001b[0mvalue\u001b[0m\u001b[0;34m.\u001b[0m\u001b[0;34m\u001b[0m\u001b[0;34m\u001b[0m\u001b[0m\n\u001b[1;32m    309\u001b[0m         \"\"\"\n\u001b[0;32m--> 310\u001b[0;31m         \u001b[0mopcode\u001b[0m\u001b[0;34m,\u001b[0m \u001b[0mframe\u001b[0m \u001b[0;34m=\u001b[0m \u001b[0mself\u001b[0m\u001b[0;34m.\u001b[0m\u001b[0mrecv_data_frame\u001b[0m\u001b[0;34m(\u001b[0m\u001b[0mcontrol_frame\u001b[0m\u001b[0;34m)\u001b[0m\u001b[0;34m\u001b[0m\u001b[0;34m\u001b[0m\u001b[0m\n\u001b[0m\u001b[1;32m    311\u001b[0m         \u001b[0;32mreturn\u001b[0m \u001b[0mopcode\u001b[0m\u001b[0;34m,\u001b[0m \u001b[0mframe\u001b[0m\u001b[0;34m.\u001b[0m\u001b[0mdata\u001b[0m\u001b[0;34m\u001b[0m\u001b[0;34m\u001b[0m\u001b[0m\n\u001b[1;32m    312\u001b[0m \u001b[0;34m\u001b[0m\u001b[0m\n",
      "\u001b[0;32m~/opt/anaconda3/lib/python3.9/site-packages/websocket/_core.py\u001b[0m in \u001b[0;36mrecv_data_frame\u001b[0;34m(self, control_frame)\u001b[0m\n\u001b[1;32m    321\u001b[0m         \"\"\"\n\u001b[1;32m    322\u001b[0m         \u001b[0;32mwhile\u001b[0m \u001b[0;32mTrue\u001b[0m\u001b[0;34m:\u001b[0m\u001b[0;34m\u001b[0m\u001b[0;34m\u001b[0m\u001b[0m\n\u001b[0;32m--> 323\u001b[0;31m             \u001b[0mframe\u001b[0m \u001b[0;34m=\u001b[0m \u001b[0mself\u001b[0m\u001b[0;34m.\u001b[0m\u001b[0mrecv_frame\u001b[0m\u001b[0;34m(\u001b[0m\u001b[0;34m)\u001b[0m\u001b[0;34m\u001b[0m\u001b[0;34m\u001b[0m\u001b[0m\n\u001b[0m\u001b[1;32m    324\u001b[0m             \u001b[0;32mif\u001b[0m \u001b[0;32mnot\u001b[0m \u001b[0mframe\u001b[0m\u001b[0;34m:\u001b[0m\u001b[0;34m\u001b[0m\u001b[0;34m\u001b[0m\u001b[0m\n\u001b[1;32m    325\u001b[0m                 \u001b[0;31m# handle error:\u001b[0m\u001b[0;34m\u001b[0m\u001b[0;34m\u001b[0m\u001b[0m\n",
      "\u001b[0;32m~/opt/anaconda3/lib/python3.9/site-packages/websocket/_core.py\u001b[0m in \u001b[0;36mrecv_frame\u001b[0;34m(self)\u001b[0m\n\u001b[1;32m    355\u001b[0m         \u001b[0;32mreturn\u001b[0m \u001b[0mvalue\u001b[0m\u001b[0;34m:\u001b[0m \u001b[0mABNF\u001b[0m \u001b[0mframe\u001b[0m \u001b[0mobject\u001b[0m\u001b[0;34m.\u001b[0m\u001b[0;34m\u001b[0m\u001b[0;34m\u001b[0m\u001b[0m\n\u001b[1;32m    356\u001b[0m         \"\"\"\n\u001b[0;32m--> 357\u001b[0;31m         \u001b[0;32mreturn\u001b[0m \u001b[0mself\u001b[0m\u001b[0;34m.\u001b[0m\u001b[0mframe_buffer\u001b[0m\u001b[0;34m.\u001b[0m\u001b[0mrecv_frame\u001b[0m\u001b[0;34m(\u001b[0m\u001b[0;34m)\u001b[0m\u001b[0;34m\u001b[0m\u001b[0;34m\u001b[0m\u001b[0m\n\u001b[0m\u001b[1;32m    358\u001b[0m \u001b[0;34m\u001b[0m\u001b[0m\n\u001b[1;32m    359\u001b[0m     \u001b[0;32mdef\u001b[0m \u001b[0msend_close\u001b[0m\u001b[0;34m(\u001b[0m\u001b[0mself\u001b[0m\u001b[0;34m,\u001b[0m \u001b[0mstatus\u001b[0m\u001b[0;34m=\u001b[0m\u001b[0mSTATUS_NORMAL\u001b[0m\u001b[0;34m,\u001b[0m \u001b[0mreason\u001b[0m\u001b[0;34m=\u001b[0m\u001b[0msix\u001b[0m\u001b[0;34m.\u001b[0m\u001b[0mb\u001b[0m\u001b[0;34m(\u001b[0m\u001b[0;34m\"\"\u001b[0m\u001b[0;34m)\u001b[0m\u001b[0;34m)\u001b[0m\u001b[0;34m:\u001b[0m\u001b[0;34m\u001b[0m\u001b[0;34m\u001b[0m\u001b[0m\n",
      "\u001b[0;32m~/opt/anaconda3/lib/python3.9/site-packages/websocket/_abnf.py\u001b[0m in \u001b[0;36mrecv_frame\u001b[0;34m(self)\u001b[0m\n\u001b[1;32m    338\u001b[0m             \u001b[0;31m# Header\u001b[0m\u001b[0;34m\u001b[0m\u001b[0;34m\u001b[0m\u001b[0m\n\u001b[1;32m    339\u001b[0m             \u001b[0;32mif\u001b[0m \u001b[0mself\u001b[0m\u001b[0;34m.\u001b[0m\u001b[0mhas_received_header\u001b[0m\u001b[0;34m(\u001b[0m\u001b[0;34m)\u001b[0m\u001b[0;34m:\u001b[0m\u001b[0;34m\u001b[0m\u001b[0;34m\u001b[0m\u001b[0m\n\u001b[0;32m--> 340\u001b[0;31m                 \u001b[0mself\u001b[0m\u001b[0;34m.\u001b[0m\u001b[0mrecv_header\u001b[0m\u001b[0;34m(\u001b[0m\u001b[0;34m)\u001b[0m\u001b[0;34m\u001b[0m\u001b[0;34m\u001b[0m\u001b[0m\n\u001b[0m\u001b[1;32m    341\u001b[0m             \u001b[0;34m(\u001b[0m\u001b[0mfin\u001b[0m\u001b[0;34m,\u001b[0m \u001b[0mrsv1\u001b[0m\u001b[0;34m,\u001b[0m \u001b[0mrsv2\u001b[0m\u001b[0;34m,\u001b[0m \u001b[0mrsv3\u001b[0m\u001b[0;34m,\u001b[0m \u001b[0mopcode\u001b[0m\u001b[0;34m,\u001b[0m \u001b[0mhas_mask\u001b[0m\u001b[0;34m,\u001b[0m \u001b[0m_\u001b[0m\u001b[0;34m)\u001b[0m \u001b[0;34m=\u001b[0m \u001b[0mself\u001b[0m\u001b[0;34m.\u001b[0m\u001b[0mheader\u001b[0m\u001b[0;34m\u001b[0m\u001b[0;34m\u001b[0m\u001b[0m\n\u001b[1;32m    342\u001b[0m \u001b[0;34m\u001b[0m\u001b[0m\n",
      "\u001b[0;32m~/opt/anaconda3/lib/python3.9/site-packages/websocket/_abnf.py\u001b[0m in \u001b[0;36mrecv_header\u001b[0;34m(self)\u001b[0m\n\u001b[1;32m    286\u001b[0m \u001b[0;34m\u001b[0m\u001b[0m\n\u001b[1;32m    287\u001b[0m     \u001b[0;32mdef\u001b[0m \u001b[0mrecv_header\u001b[0m\u001b[0;34m(\u001b[0m\u001b[0mself\u001b[0m\u001b[0;34m)\u001b[0m\u001b[0;34m:\u001b[0m\u001b[0;34m\u001b[0m\u001b[0;34m\u001b[0m\u001b[0m\n\u001b[0;32m--> 288\u001b[0;31m         \u001b[0mheader\u001b[0m \u001b[0;34m=\u001b[0m \u001b[0mself\u001b[0m\u001b[0;34m.\u001b[0m\u001b[0mrecv_strict\u001b[0m\u001b[0;34m(\u001b[0m\u001b[0;36m2\u001b[0m\u001b[0;34m)\u001b[0m\u001b[0;34m\u001b[0m\u001b[0;34m\u001b[0m\u001b[0m\n\u001b[0m\u001b[1;32m    289\u001b[0m         \u001b[0mb1\u001b[0m \u001b[0;34m=\u001b[0m \u001b[0mheader\u001b[0m\u001b[0;34m[\u001b[0m\u001b[0;36m0\u001b[0m\u001b[0;34m]\u001b[0m\u001b[0;34m\u001b[0m\u001b[0;34m\u001b[0m\u001b[0m\n\u001b[1;32m    290\u001b[0m \u001b[0;34m\u001b[0m\u001b[0m\n",
      "\u001b[0;32m~/opt/anaconda3/lib/python3.9/site-packages/websocket/_abnf.py\u001b[0m in \u001b[0;36mrecv_strict\u001b[0;34m(self, bufsize)\u001b[0m\n\u001b[1;32m    373\u001b[0m             \u001b[0;31m# buffers allocated and then shrunk, which results in\u001b[0m\u001b[0;34m\u001b[0m\u001b[0;34m\u001b[0m\u001b[0m\n\u001b[1;32m    374\u001b[0m             \u001b[0;31m# fragmentation.\u001b[0m\u001b[0;34m\u001b[0m\u001b[0;34m\u001b[0m\u001b[0m\n\u001b[0;32m--> 375\u001b[0;31m             \u001b[0mbytes_\u001b[0m \u001b[0;34m=\u001b[0m \u001b[0mself\u001b[0m\u001b[0;34m.\u001b[0m\u001b[0mrecv\u001b[0m\u001b[0;34m(\u001b[0m\u001b[0mmin\u001b[0m\u001b[0;34m(\u001b[0m\u001b[0;36m16384\u001b[0m\u001b[0;34m,\u001b[0m \u001b[0mshortage\u001b[0m\u001b[0;34m)\u001b[0m\u001b[0;34m)\u001b[0m\u001b[0;34m\u001b[0m\u001b[0;34m\u001b[0m\u001b[0m\n\u001b[0m\u001b[1;32m    376\u001b[0m             \u001b[0mself\u001b[0m\u001b[0;34m.\u001b[0m\u001b[0mrecv_buffer\u001b[0m\u001b[0;34m.\u001b[0m\u001b[0mappend\u001b[0m\u001b[0;34m(\u001b[0m\u001b[0mbytes_\u001b[0m\u001b[0;34m)\u001b[0m\u001b[0;34m\u001b[0m\u001b[0;34m\u001b[0m\u001b[0m\n\u001b[1;32m    377\u001b[0m             \u001b[0mshortage\u001b[0m \u001b[0;34m-=\u001b[0m \u001b[0mlen\u001b[0m\u001b[0;34m(\u001b[0m\u001b[0mbytes_\u001b[0m\u001b[0;34m)\u001b[0m\u001b[0;34m\u001b[0m\u001b[0;34m\u001b[0m\u001b[0m\n",
      "\u001b[0;32m~/opt/anaconda3/lib/python3.9/site-packages/websocket/_core.py\u001b[0m in \u001b[0;36m_recv\u001b[0;34m(self, bufsize)\u001b[0m\n\u001b[1;32m    425\u001b[0m     \u001b[0;32mdef\u001b[0m \u001b[0m_recv\u001b[0m\u001b[0;34m(\u001b[0m\u001b[0mself\u001b[0m\u001b[0;34m,\u001b[0m \u001b[0mbufsize\u001b[0m\u001b[0;34m)\u001b[0m\u001b[0;34m:\u001b[0m\u001b[0;34m\u001b[0m\u001b[0;34m\u001b[0m\u001b[0m\n\u001b[1;32m    426\u001b[0m         \u001b[0;32mtry\u001b[0m\u001b[0;34m:\u001b[0m\u001b[0;34m\u001b[0m\u001b[0;34m\u001b[0m\u001b[0m\n\u001b[0;32m--> 427\u001b[0;31m             \u001b[0;32mreturn\u001b[0m \u001b[0mrecv\u001b[0m\u001b[0;34m(\u001b[0m\u001b[0mself\u001b[0m\u001b[0;34m.\u001b[0m\u001b[0msock\u001b[0m\u001b[0;34m,\u001b[0m \u001b[0mbufsize\u001b[0m\u001b[0;34m)\u001b[0m\u001b[0;34m\u001b[0m\u001b[0;34m\u001b[0m\u001b[0m\n\u001b[0m\u001b[1;32m    428\u001b[0m         \u001b[0;32mexcept\u001b[0m \u001b[0mWebSocketConnectionClosedException\u001b[0m\u001b[0;34m:\u001b[0m\u001b[0;34m\u001b[0m\u001b[0;34m\u001b[0m\u001b[0m\n\u001b[1;32m    429\u001b[0m             \u001b[0;32mif\u001b[0m \u001b[0mself\u001b[0m\u001b[0;34m.\u001b[0m\u001b[0msock\u001b[0m\u001b[0;34m:\u001b[0m\u001b[0;34m\u001b[0m\u001b[0;34m\u001b[0m\u001b[0m\n",
      "\u001b[0;32m~/opt/anaconda3/lib/python3.9/site-packages/websocket/_socket.py\u001b[0m in \u001b[0;36mrecv\u001b[0;34m(sock, bufsize)\u001b[0m\n\u001b[1;32m     78\u001b[0m \u001b[0;34m\u001b[0m\u001b[0m\n\u001b[1;32m     79\u001b[0m     \u001b[0;32mtry\u001b[0m\u001b[0;34m:\u001b[0m\u001b[0;34m\u001b[0m\u001b[0;34m\u001b[0m\u001b[0m\n\u001b[0;32m---> 80\u001b[0;31m         \u001b[0mbytes_\u001b[0m \u001b[0;34m=\u001b[0m \u001b[0msock\u001b[0m\u001b[0;34m.\u001b[0m\u001b[0mrecv\u001b[0m\u001b[0;34m(\u001b[0m\u001b[0mbufsize\u001b[0m\u001b[0;34m)\u001b[0m\u001b[0;34m\u001b[0m\u001b[0;34m\u001b[0m\u001b[0m\n\u001b[0m\u001b[1;32m     81\u001b[0m     \u001b[0;32mexcept\u001b[0m \u001b[0msocket\u001b[0m\u001b[0;34m.\u001b[0m\u001b[0mtimeout\u001b[0m \u001b[0;32mas\u001b[0m \u001b[0me\u001b[0m\u001b[0;34m:\u001b[0m\u001b[0;34m\u001b[0m\u001b[0;34m\u001b[0m\u001b[0m\n\u001b[1;32m     82\u001b[0m         \u001b[0mmessage\u001b[0m \u001b[0;34m=\u001b[0m \u001b[0mextract_err_message\u001b[0m\u001b[0;34m(\u001b[0m\u001b[0me\u001b[0m\u001b[0;34m)\u001b[0m\u001b[0;34m\u001b[0m\u001b[0;34m\u001b[0m\u001b[0m\n",
      "\u001b[0;32m~/opt/anaconda3/lib/python3.9/ssl.py\u001b[0m in \u001b[0;36mrecv\u001b[0;34m(self, buflen, flags)\u001b[0m\n\u001b[1;32m   1224\u001b[0m                     \u001b[0;34m\"non-zero flags not allowed in calls to recv() on %s\"\u001b[0m \u001b[0;34m%\u001b[0m\u001b[0;34m\u001b[0m\u001b[0;34m\u001b[0m\u001b[0m\n\u001b[1;32m   1225\u001b[0m                     self.__class__)\n\u001b[0;32m-> 1226\u001b[0;31m             \u001b[0;32mreturn\u001b[0m \u001b[0mself\u001b[0m\u001b[0;34m.\u001b[0m\u001b[0mread\u001b[0m\u001b[0;34m(\u001b[0m\u001b[0mbuflen\u001b[0m\u001b[0;34m)\u001b[0m\u001b[0;34m\u001b[0m\u001b[0;34m\u001b[0m\u001b[0m\n\u001b[0m\u001b[1;32m   1227\u001b[0m         \u001b[0;32melse\u001b[0m\u001b[0;34m:\u001b[0m\u001b[0;34m\u001b[0m\u001b[0;34m\u001b[0m\u001b[0m\n\u001b[1;32m   1228\u001b[0m             \u001b[0;32mreturn\u001b[0m \u001b[0msuper\u001b[0m\u001b[0;34m(\u001b[0m\u001b[0;34m)\u001b[0m\u001b[0;34m.\u001b[0m\u001b[0mrecv\u001b[0m\u001b[0;34m(\u001b[0m\u001b[0mbuflen\u001b[0m\u001b[0;34m,\u001b[0m \u001b[0mflags\u001b[0m\u001b[0;34m)\u001b[0m\u001b[0;34m\u001b[0m\u001b[0;34m\u001b[0m\u001b[0m\n",
      "\u001b[0;32m~/opt/anaconda3/lib/python3.9/ssl.py\u001b[0m in \u001b[0;36mread\u001b[0;34m(self, len, buffer)\u001b[0m\n\u001b[1;32m   1099\u001b[0m                 \u001b[0;32mreturn\u001b[0m \u001b[0mself\u001b[0m\u001b[0;34m.\u001b[0m\u001b[0m_sslobj\u001b[0m\u001b[0;34m.\u001b[0m\u001b[0mread\u001b[0m\u001b[0;34m(\u001b[0m\u001b[0mlen\u001b[0m\u001b[0;34m,\u001b[0m \u001b[0mbuffer\u001b[0m\u001b[0;34m)\u001b[0m\u001b[0;34m\u001b[0m\u001b[0;34m\u001b[0m\u001b[0m\n\u001b[1;32m   1100\u001b[0m             \u001b[0;32melse\u001b[0m\u001b[0;34m:\u001b[0m\u001b[0;34m\u001b[0m\u001b[0;34m\u001b[0m\u001b[0m\n\u001b[0;32m-> 1101\u001b[0;31m                 \u001b[0;32mreturn\u001b[0m \u001b[0mself\u001b[0m\u001b[0;34m.\u001b[0m\u001b[0m_sslobj\u001b[0m\u001b[0;34m.\u001b[0m\u001b[0mread\u001b[0m\u001b[0;34m(\u001b[0m\u001b[0mlen\u001b[0m\u001b[0;34m)\u001b[0m\u001b[0;34m\u001b[0m\u001b[0;34m\u001b[0m\u001b[0m\n\u001b[0m\u001b[1;32m   1102\u001b[0m         \u001b[0;32mexcept\u001b[0m \u001b[0mSSLError\u001b[0m \u001b[0;32mas\u001b[0m \u001b[0mx\u001b[0m\u001b[0;34m:\u001b[0m\u001b[0;34m\u001b[0m\u001b[0;34m\u001b[0m\u001b[0m\n\u001b[1;32m   1103\u001b[0m             \u001b[0;32mif\u001b[0m \u001b[0mx\u001b[0m\u001b[0;34m.\u001b[0m\u001b[0margs\u001b[0m\u001b[0;34m[\u001b[0m\u001b[0;36m0\u001b[0m\u001b[0;34m]\u001b[0m \u001b[0;34m==\u001b[0m \u001b[0mSSL_ERROR_EOF\u001b[0m \u001b[0;32mand\u001b[0m \u001b[0mself\u001b[0m\u001b[0;34m.\u001b[0m\u001b[0msuppress_ragged_eofs\u001b[0m\u001b[0;34m:\u001b[0m\u001b[0;34m\u001b[0m\u001b[0;34m\u001b[0m\u001b[0m\n",
      "\u001b[0;31mKeyboardInterrupt\u001b[0m: "
     ]
    }
   ],
   "source": [
    "import json\n",
    "import websocket\n",
    "import pandas as pd\n",
    "\n",
    "def on_message(message):\n",
    "    message = json.loads(message)\n",
    "\n",
    "    if isinstance(message, dict):\n",
    "        event = message.get(\"event\")\n",
    "        if event == \"heartbeat\":\n",
    "            return  # Skip processing if the event is a heartbeat\n",
    "        else:\n",
    "            print(message)\n",
    "    elif isinstance(message, list):\n",
    "        \n",
    "        print(message)\n",
    "        # Extract the trade information from the message\n",
    "        # Unpack the payload\n",
    "        return\n",
    "        id, data, channelName, pair = message\n",
    "\n",
    "        # Extract the 'as' and 'bs' arrays\n",
    "        asks = data.get('as')\n",
    "        bids = data.get('bs')\n",
    "\n",
    "        # Create empty lists to store the extracted data\n",
    "        ask_prices, ask_volumes = [], []\n",
    "        bid_prices, bid_volumes = [], []\n",
    "        ids, pairs = [],[]\n",
    "\n",
    "        ids.append(id)\n",
    "        pairs.append(pairs)\n",
    "\n",
    "        # Extract the data from the 'as' arrays\n",
    "        for i, ask in enumerate(asks):\n",
    "            ask_prices.append(ask[0])\n",
    "            ask_volumes.append(ask[1])\n",
    "\n",
    "        # Extract the data from the 'bs' arrays\n",
    "        for i, bid in enumerate(bids):\n",
    "            bid_prices.append(bid[0])\n",
    "            bid_volumes.append(bid[1])\n",
    "\n",
    "def on_error(ws, error):\n",
    "    print(error)\n",
    "\n",
    "def on_close(ws):\n",
    "    print(\"Closed connection\")\n",
    "\n",
    "def on_open(ws):\n",
    "    ws.send(json.dumps({\n",
    "        \"event\": \"subscribe\",\n",
    "        \"pair\": [\"XBT/USD\", \"ETH/USD\"],\n",
    "        #\"subscription\": {\"name\": \"trade\"},\n",
    "        #\"subscription\": {\"name\": \"book\", \"depth\": 10}\n",
    "        \"subscription\": {\"name\": \"ticker\"}\n",
    "    }))\n",
    "\n",
    "if __name__ == \"__main__\":\n",
    "\n",
    "    ws = create_connection(\"wss://ws.kraken.com\")\n",
    "    ws.send(json.dumps({\n",
    "        \"event\": \"subscribe\",\n",
    "        \"pair\": [\"XBT/USD\", \"ETH/USD\"],\n",
    "        \"subscription\": {\"name\": \"ticker\"}\n",
    "    }))\n",
    "    while True:\n",
    "        message = ws.recv()\n",
    "        on_message(message)\n"
   ]
  },
  {
   "attachments": {},
   "cell_type": "markdown",
   "metadata": {},
   "source": [
    "### ByteWax Dataflow"
   ]
  },
  {
   "cell_type": "code",
   "execution_count": 12,
   "metadata": {},
   "outputs": [],
   "source": [
    "import json\n",
    "from bytewax.inputs import ManualInputConfig\n",
    "from bytewax.outputs import ManualOutputConfig"
   ]
  },
  {
   "cell_type": "code",
   "execution_count": null,
   "metadata": {},
   "outputs": [],
   "source": [
    "PRODUCT_IDS = [\"XBT/USD\", \"ETH/USD\"]"
   ]
  },
  {
   "cell_type": "code",
   "execution_count": null,
   "metadata": {},
   "outputs": [],
   "source": [
    "def ws_input(product_ids):\n",
    "    state = None\n",
    "\n",
    "    ws = create_connection(\"wss://ws.kraken.com\")\n",
    "    ws.send(json.dumps({\n",
    "        \"event\": \"subscribe\",\n",
    "        \"pair\": [\"XBT/USD\", \"ETH/USD\"],\n",
    "        \"subscription\": {\"name\": \"ticker\"}\n",
    "    }))\n",
    "\n",
    "    print(ws.recv())\n",
    "    while True:\n",
    "        yield state, ws.recv()"
   ]
  },
  {
   "cell_type": "code",
   "execution_count": null,
   "metadata": {},
   "outputs": [],
   "source": [
    "def input_builder(worker_index, worker_count, resume_state):\n",
    "    # We're not going to worry about stateful recovery in this example.\n",
    "    state = None\n",
    "    prods_per_worker = int(len(PRODUCT_IDS) / worker_count)\n",
    "    product_ids = PRODUCT_IDS[\n",
    "        int(worker_index * prods_per_worker) : int(\n",
    "            worker_index * prods_per_worker + prods_per_worker\n",
    "        )\n",
    "    ]\n",
    "    return ws_input(product_ids, state)\n",
    "\n",
    "\n",
    "input_config = ManualInputConfig(input_builder)"
   ]
  },
  {
   "cell_type": "code",
   "execution_count": null,
   "metadata": {},
   "outputs": [],
   "source": [
    "def output_builder(worker_index, worker_count):\n",
    "    return print"
   ]
  },
  {
   "cell_type": "code",
   "execution_count": null,
   "metadata": {},
   "outputs": [],
   "source": [
    "from bytewax.dataflow import Dataflow\n",
    "\n",
    "\n",
    "def key_on_product(data):\n",
    "    return (data[\"product_id\"], data)\n",
    "\n",
    "\n",
    "flow = Dataflow()\n",
    "flow.input(\"input\", ManualInputConfig(input_builder))\n",
    "flow.map(json.loads)\n",
    "# {'type': 'l2update', 'product_id': 'BTC-USD', 'changes': [['buy', '36905.39', '0.00334873']], 'time': '2022-05-05T17:25:09.072519Z'}\n",
    "flow.map(key_on_product)\n",
    "# ('BTC-USD', {'type': 'l2update', 'product_id': 'BTC-USD', 'changes': [['buy', '36905.39', '0.00334873']], 'time': '2022-05-05T17:25:09.072519Z'})\n"
   ]
  },
  {
   "cell_type": "code",
   "execution_count": null,
   "metadata": {},
   "outputs": [],
   "source": [
    "class OrderBook:\n",
    "    def __init__(self):\n",
    "        # if using Python < 3.7 need to use OrderedDict here\n",
    "        self.bids = {}\n",
    "        self.asks = {}\n",
    "\n",
    "    def update(self, data):\n",
    "        if self.bids == {}:\n",
    "            self.bids = {float(price): float(size) for price, size in data[\"bids\"]}\n",
    "            # The bid_price is the highest priced buy limit order.\n",
    "            # since the bids are in order, the first item of our newly constructed bids\n",
    "            # will have our bid price, so we can track the best bid\n",
    "            self.bid_price = next(iter(self.bids))\n",
    "        if self.asks == {}:\n",
    "            self.asks = {float(price): float(size) for price, size in data[\"asks\"]}\n",
    "            # The ask price is the lowest priced sell limit order.\n",
    "            # since the asks are in order, the first item of our newly constructed\n",
    "            # asks will be our ask price, so we can track the best ask\n",
    "            self.ask_price = next(iter(self.asks))\n",
    "        else:\n",
    "            # We receive a list of lists here, normally it is only one change,\n",
    "            # but could be more than one.\n",
    "            for update in data[\"changes\"]:\n",
    "                price = float(update[1])\n",
    "                size = float(update[2])\n",
    "            if update[0] == \"sell\":\n",
    "                # first check if the size is zero and needs to be removed\n",
    "                if size == 0.0:\n",
    "                    try:\n",
    "                        del self.asks[price]\n",
    "                        # if it was the ask price removed,\n",
    "                        # update with new ask price\n",
    "                        if price <= self.ask_price:\n",
    "                            self.ask_price = min(self.asks.keys())\n",
    "                    except KeyError:\n",
    "                        # don't need to add price with size zero\n",
    "                        pass\n",
    "                else:\n",
    "                    self.asks[price] = size\n",
    "                    if price < self.ask_price:\n",
    "                        self.ask_price = price\n",
    "            if update[0] == \"buy\":\n",
    "                # first check if the size is zero and needs to be removed\n",
    "                if size == 0.0:\n",
    "                    try:\n",
    "                        del self.bids[price]\n",
    "                        # if it was the bid price removed,\n",
    "                        # update with new bid price\n",
    "                        if price >= self.bid_price:\n",
    "                            self.bid_price = max(self.bids.keys())\n",
    "                    except KeyError:\n",
    "                        # don't need to add price with size zero\n",
    "                        pass\n",
    "                else:\n",
    "                    self.bids[price] = size\n",
    "                    if price > self.bid_price:\n",
    "                        self.bid_price = price\n",
    "        return self, {\n",
    "            \"bid\": self.bid_price,\n",
    "            \"bid_size\": self.bids[self.bid_price],\n",
    "            \"ask\": self.ask_price,\n",
    "            \"ask_price\": self.asks[self.ask_price],\n",
    "            \"spread\": self.ask_price - self.bid_price,\n",
    "        }\n",
    "\n",
    "\n",
    "flow.stateful_map(\"order_book\", OrderBook, OrderBook.update)\n"
   ]
  },
  {
   "cell_type": "code",
   "execution_count": null,
   "metadata": {},
   "outputs": [],
   "source": [
    "flow.filter(lambda x: x[-1][\"spread\"] / x[-1][\"ask\"] > 0.0001)\n",
    "flow.capture(ManualOutputConfig(output_builder))"
   ]
  }
 ],
 "metadata": {
  "kernelspec": {
   "display_name": "base",
   "language": "python",
   "name": "python3"
  },
  "language_info": {
   "codemirror_mode": {
    "name": "ipython",
    "version": 3
   },
   "file_extension": ".py",
   "mimetype": "text/x-python",
   "name": "python",
   "nbconvert_exporter": "python",
   "pygments_lexer": "ipython3",
   "version": "3.9.7"
  },
  "orig_nbformat": 4,
  "vscode": {
   "interpreter": {
    "hash": "20d56e10b2983ef8ec4a176380a073bdb57574fb6ecae903a52d582d5209a712"
   }
  }
 },
 "nbformat": 4,
 "nbformat_minor": 2
}
