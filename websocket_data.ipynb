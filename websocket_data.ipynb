{
 "cells": [
  {
   "cell_type": "code",
   "execution_count": 1,
   "metadata": {},
   "outputs": [],
   "source": [
    "import json, time\n",
    "from websocket import create_connection"
   ]
  },
  {
   "cell_type": "code",
   "execution_count": 2,
   "metadata": {},
   "outputs": [
    {
     "name": "stderr",
     "output_type": "stream",
     "text": [
      "--- request header ---\n",
      "GET / HTTP/1.1\n",
      "Upgrade: websocket\n",
      "Connection: Upgrade\n",
      "Host: ws.kraken.com\n",
      "Origin: http://ws.kraken.com\n",
      "Sec-WebSocket-Key: +s8Cwhmr4Wl2BRoXw1p9Fg==\n",
      "Sec-WebSocket-Version: 13\n",
      "\n",
      "\n",
      "-----------------------\n",
      "--- response header ---\n",
      "HTTP/1.1 101 Switching Protocols\n",
      "Date: Fri, 20 Jan 2023 23:25:05 GMT\n",
      "Connection: upgrade\n",
      "Set-Cookie: AWSALB=FIUV++4GU2P1Kbkr378dR++UXLEKChY1Hhk5hJJNCTH13l4qxck+st15rsCsMuBqpclpol7CE8PVO5hzuTpXRbytFm/kcNfU1XLr28iWZFUBmHtuXiVAKQAKnE7Y; Expires=Fri, 27 Jan 2023 23:25:05 GMT; Path=/\n",
      "Upgrade: websocket\n",
      "Sec-WebSocket-Accept: zIVt4YK2B/qXwRiKWFBlp/yqnns=\n",
      "CF-Cache-Status: DYNAMIC\n",
      "Strict-Transport-Security: max-age=31536000; includeSubDomains; preload\n",
      "X-Content-Type-Options: nosniff\n",
      "Set-Cookie: AWSALBCORS=FIUV++4GU2P1Kbkr378dR++UXLEKChY1Hhk5hJJNCTH13l4qxck+st15rsCsMuBqpclpol7CE8PVO5hzuTpXRbytFm/kcNfU1XLr28iWZFUBmHtuXiVAKQAKnE7Y; Expires=Fri, 27 Jan 2023 23:25:05 GMT; Path=/; SameSite=None; Secure\n",
      "Set-Cookie: __cf_bm=NUfWjSBEFVfcUMAfsL.qWWcvO46qEgmDdcmLUiM.PwE-1674257105-0-ARxSwkP9r6+LF3DfbcyPVFXPBcot19HDjC6K0LfVzjuXlX83tjb6Qpc7HompS40UTeheC2mjiZCUVO45hvs4Kmo=; path=/; expires=Fri, 20-Jan-23 23:55:05 GMT; domain=.kraken.com; HttpOnly; Secure\n",
      "Set-Cookie: __cfruid=982372013bd4245feb985861d490c64e1b8ee008-1674257105; path=/; domain=.kraken.com; HttpOnly; Secure; SameSite=None\n",
      "Server: cloudflare\n",
      "CF-RAY: 78cb91389f53bacd-MXP\n",
      "-----------------------\n",
      "send: b'\\x81\\xe6\\xbb\\x7f\\xca\\xfb\\xc0]\\xaf\\x8d\\xde\\x11\\xbe\\xd9\\x81_\\xe8\\x88\\xce\\x1d\\xb9\\x98\\xc9\\x16\\xa8\\x9e\\x99S\\xea\\xd9\\xcb\\x1e\\xa3\\x89\\x99E\\xea\\xa0\\x99\\'\\x88\\xaf\\x94*\\x99\\xbf\\x99\"\\xe6\\xdb\\x99\\x0c\\xbf\\x99\\xc8\\x1c\\xb8\\x92\\xcb\\x0b\\xa3\\x94\\xd5]\\xf0\\xdb\\xc0]\\xa4\\x9a\\xd6\\x1a\\xe8\\xc1\\x9b]\\xbe\\x89\\xda\\x1b\\xaf\\xd9\\xc6S\\xea\\xd9\\xd8\\x17\\xab\\x95\\xd5\\x1a\\xa6\\x88\\x99E\\xea\\xa0\\x99\\x13\\xaf\\x8d\\xde\\x13\\xf8\\xd9\\xe6\\x02'\n"
     ]
    },
    {
     "name": "stdout",
     "output_type": "stream",
     "text": [
      "{'connectionID': 9187197382675103737, 'event': 'systemStatus', 'status': 'online', 'version': '1.9.0'}\n",
      "{'errorMessage': \"Unsupported field: 'channels' for the given msg type: subscribe\", 'event': 'subscriptionStatus', 'pair': 'XBT/USD', 'status': 'error', 'subscription': {'name': 'trade'}}\n"
     ]
    },
    {
     "name": "stderr",
     "output_type": "stream",
     "text": [
      "send: b'\\x88\\x82\\x80\\xf7\\xb8\\x84\\x83\\x1f'\n"
     ]
    },
    {
     "name": "stdout",
     "output_type": "stream",
     "text": [
      "\n",
      "Closed connection\n"
     ]
    }
   ],
   "source": [
    "import json\n",
    "import websocket\n",
    "import pandas as pd\n",
    "\n",
    "# Initialize an empty DataFrame to store the trade data\n",
    "df = pd.DataFrame(columns=[\"time\", \"price\", \"volume\"])\n",
    "\n",
    "def on_message(ws, message):\n",
    "    message = json.loads(message)\n",
    "\n",
    "    if isinstance(message, dict):\n",
    "        event = message.get(\"event\")\n",
    "        if event == \"heartbeat\":\n",
    "            return  # Skip processing if the event is a heartbeat\n",
    "        else:\n",
    "            print(message)\n",
    "    elif isinstance(message, list):\n",
    "        print(message)\n",
    "        return \n",
    "        # Extract the trade information from the message\n",
    "        trade = message[\"XBT/USD\"]\n",
    "        # Append the trade information to the DataFrame\n",
    "        df.loc[len(df)] = [trade[2], trade[0], trade[1]]\n",
    "        print(df)\n",
    "\n",
    "def on_error(ws, error):\n",
    "    print(error)\n",
    "\n",
    "def on_close(ws):\n",
    "    print(\"Closed connection\")\n",
    "\n",
    "def on_open(ws):\n",
    "    ws.send(json.dumps({\n",
    "        \"event\": \"subscribe\",\n",
    "        \"pair\": [\"XBT/USD\"],\n",
    "        \"subscription\": {\"name\": \"trade\"},\n",
    "        #\"subscription\": {\"name\": \"book\", \"depth\": 10}\n",
    "    }))\n",
    "\n",
    "if __name__ == \"__main__\":\n",
    "    websocket.enableTrace(True)\n",
    "    ws = websocket.WebSocketApp(\"wss://ws.kraken.com\",\n",
    "                              on_message = on_message,\n",
    "                              on_error = on_error,\n",
    "                              on_close = on_close)\n",
    "    ws.on_open = on_open\n",
    "    ws.run_forever()\n"
   ]
  },
  {
   "cell_type": "code",
   "execution_count": null,
   "metadata": {},
   "outputs": [],
   "source": []
  }
 ],
 "metadata": {
  "kernelspec": {
   "display_name": "base",
   "language": "python",
   "name": "python3"
  },
  "language_info": {
   "codemirror_mode": {
    "name": "ipython",
    "version": 3
   },
   "file_extension": ".py",
   "mimetype": "text/x-python",
   "name": "python",
   "nbconvert_exporter": "python",
   "pygments_lexer": "ipython3",
   "version": "3.9.7"
  },
  "orig_nbformat": 4,
  "vscode": {
   "interpreter": {
    "hash": "20d56e10b2983ef8ec4a176380a073bdb57574fb6ecae903a52d582d5209a712"
   }
  }
 },
 "nbformat": 4,
 "nbformat_minor": 2
}
